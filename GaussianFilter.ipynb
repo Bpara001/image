{
 "cells": [
  {
   "cell_type": "code",
   "execution_count": null,
   "outputs": [],
   "source": [
    "import scipy.misc\n",
    "from scipy.ndimage import gaussian_filter\n",
    "import matplotlib.pyplot as plt\n",
    "import os,glob,cv2\n",
    "from os import path\n",
    "from scipy import misc\n",
    "from scipy.ndimage import gaussian_filter\n",
    "import matplotlib.image as mpimg\n",
    "from PIL import Image\n",
    "from IPython.display import set_matplotlib_formats\n",
    "import numpy as np\n"
   ],
   "metadata": {
    "collapsed": false,
    "pycharm": {
     "name": "#%%\n"
    }
   }
  },
  {
   "cell_type": "code",
   "execution_count": null,
   "outputs": [],
   "source": [
    "def rgb2gray(rgb):\n",
    "    return np.dot(rgb[...,:3], [0.2989, 0.5870, 0.1140])\n",
    "\n",
    "\n",
    "def imageShower(image,i):\n",
    "    fig=plt.figure()\n",
    "    plt.axis('off')\n",
    "    plt.imshow(image)\n",
    "    temp = str(i)\n",
    "    file_gauss = temp + 'gauss.jpg'\n",
    "    plt.savefig(path.join('Gauss2/', file_gauss),bbox_inches='tight',pad_inches=0)"
   ],
   "metadata": {
    "collapsed": false,
    "pycharm": {
     "name": "#%%\n"
    }
   }
  },
  {
   "cell_type": "code",
   "execution_count": null,
   "outputs": [],
   "source": [
    "def main():\n",
    "\n",
    "    path = r'C:\\Users\\Jesse\\PycharmProjects\\image\\Pictures\\Casia2\\Au'\n",
    "    i = 0\n",
    "    for filename in glob.glob(os.path.join(path,'*.jpg')):\n",
    "        with open(filename, 'r') as f:\n",
    "            #print(filename)\n",
    "            image = (mpimg.imread(filename))\n",
    "            print(image.shape)\n",
    "            alter = gaussian_filter(image, sigma=2)\n",
    "            imageShower(alter,i)\n",
    "            i =i+1\n",
    "\n",
    "#gaussian_filter(image,sigma=5)\n",
    "\n",
    "\n",
    "if __name__ == \"__main__\":\n",
    "    main()\n",
    "\n"
   ],
   "metadata": {
    "collapsed": false,
    "pycharm": {
     "name": "#%%\n"
    }
   }
  }
 ],
 "metadata": {
  "language_info": {
   "codemirror_mode": {
    "name": "ipython",
    "version": 2
   },
   "file_extension": ".py",
   "mimetype": "text/x-python",
   "name": "python",
   "nbconvert_exporter": "python",
   "pygments_lexer": "ipython2",
   "version": "2.7.6"
  },
  "kernelspec": {
   "name": "python3",
   "language": "python",
   "display_name": "Python 3"
  },
  "pycharm": {
   "stem_cell": {
    "cell_type": "raw",
    "source": [],
    "metadata": {
     "collapsed": false
    }
   }
  }
 },
 "nbformat": 4,
 "nbformat_minor": 0
}